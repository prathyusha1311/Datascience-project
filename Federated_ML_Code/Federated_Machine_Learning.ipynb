{
  "nbformat": 4,
  "nbformat_minor": 0,
  "metadata": {
    "colab": {
      "provenance": []
    },
    "kernelspec": {
      "name": "python3",
      "display_name": "Python 3"
    },
    "language_info": {
      "name": "python"
    }
  },
  "cells": [
    {
      "cell_type": "code",
      "execution_count": null,
      "metadata": {
        "id": "0Pi_uAPhl31X"
      },
      "outputs": [],
      "source": [
        "from sklearn.datasets import make_classification\n",
        "from sklearn.model_selection import train_test_split\n",
        "from sklearn.neural_network import MLPClassifier\n",
        "import numpy as np\n",
        "import pandas as pd"
      ]
    },
    {
      "cell_type": "markdown",
      "source": [
        "# Main Server Initialization"
      ],
      "metadata": {
        "id": "j3vP_KcK6S1b"
      }
    },
    {
      "cell_type": "code",
      "source": [
        "X, y = pd.read_csv(\"Curated_data.csv\")\n",
        "X_train, X_test, y_train, y_test = train_test_split(X, y, test_size=0.2, random_state=42)\n",
        "mlp = MLPClassifier(hidden_layer_sizes=(100,), max_iter=1000, random_state=42)\n",
        "mlp.fit(X_train, y_train)\n",
        "server_weights = mlp.coefs_"
      ],
      "metadata": {
        "id": "QzEeMoeN6WQe"
      },
      "execution_count": null,
      "outputs": []
    },
    {
      "cell_type": "markdown",
      "source": [
        "# Client Model Inititalization"
      ],
      "metadata": {
        "id": "aHy5pdcL6DHU"
      }
    },
    {
      "cell_type": "code",
      "source": [
        "# Client 1: Create a new MLP model with the same architecture\n",
        "new_mlp_1 = MLPClassifier(hidden_layer_sizes=(100,), max_iter=1000, random_state=42)\n",
        "new_mlp_1.coefs_ = server_weights\n",
        "new_mlp_1.intercepts_ = mlp.intercepts_\n",
        "X1, y1 = pd.read_csv(\"Client1_anamoly.csv\")\n",
        "new_mlp_1.fit(X1, y1)"
      ],
      "metadata": {
        "id": "GLYdy2vvl76S"
      },
      "execution_count": null,
      "outputs": []
    },
    {
      "cell_type": "code",
      "source": [
        "# Client 2: Create a new MLP model with the same architecture\n",
        "new_mlp_2 = MLPClassifier(hidden_layer_sizes=(100,), max_iter=1000, random_state=42)\n",
        "new_mlp_2.coefs_ = server_weights\n",
        "new_mlp_2.intercepts_ = mlp.intercepts_\n",
        "X2, y2 = pd.read_csv(\"Client2_anamoly.csv\")\n",
        "new_mlp_2.fit(X2, y2)"
      ],
      "metadata": {
        "id": "Ha4z0W92mE5C"
      },
      "execution_count": 1,
      "outputs": []
    },
    {
      "cell_type": "code",
      "source": [
        "# Client 3: Create a new MLP model with the same architecture\n",
        "new_mlp_3 = MLPClassifier(hidden_layer_sizes=(100,), max_iter=1000, random_state=42)\n",
        "new_mlp_3.coefs_ = server_weights\n",
        "new_mlp_3.intercepts_ = mlp.intercepts_\n",
        "X3, y3 = pd.read_csv(\"Client3_anamoly.csv\")\n",
        "new_mlp_3.fit(X3, y3)"
      ],
      "metadata": {
        "id": "BFckuuyL5e8D"
      },
      "execution_count": null,
      "outputs": []
    },
    {
      "cell_type": "code",
      "source": [
        "client1_weights = new_mlp_1.coefs_\n",
        "client2_weights = new_mlp_2.coefs_\n",
        "client3_weights = new_mlp_3.coefs_"
      ],
      "metadata": {
        "id": "mJoz4JgsmZHt"
      },
      "execution_count": null,
      "outputs": []
    },
    {
      "cell_type": "markdown",
      "source": [
        "# Server Weights Calculation & Updation"
      ],
      "metadata": {
        "id": "6zB134cg6MOA"
      }
    },
    {
      "cell_type": "code",
      "source": [
        "new_server_weights = [(np.array(w1) + np.array(w2) + np.array(w3) + np.array(w4)) / 4 for w1, w2, w3, w4\n",
        "                      in zip(server_weights, client1_weights, client2_weights, client3_weights)]"
      ],
      "metadata": {
        "id": "BlpwVO9t5o-I"
      },
      "execution_count": null,
      "outputs": []
    },
    {
      "cell_type": "code",
      "source": [
        "new_mlp_1.coefs_ = new_server_weights\n",
        "new_mlp_2.coefs_ = new_server_weights\n",
        "new_mlp_3.coefs_ = new_server_weights"
      ],
      "metadata": {
        "id": "pE_0pIPK57kY"
      },
      "execution_count": null,
      "outputs": []
    },
    {
      "cell_type": "code",
      "source": [
        "# weights_equal = all(np.array_equal(w1, w2) for w1, w2 in zip(client1_weights, server_weights))\n",
        "# print(weights_equal)"
      ],
      "metadata": {
        "id": "uIDsttxvmd9w"
      },
      "execution_count": 2,
      "outputs": []
    }
  ]
}